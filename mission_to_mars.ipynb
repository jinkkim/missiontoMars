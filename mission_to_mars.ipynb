{
 "cells": [
  {
   "cell_type": "code",
   "execution_count": 157,
   "metadata": {},
   "outputs": [],
   "source": [
    "# Dependencies\n",
    "from bs4 import BeautifulSoup as bs\n",
    "from selenium import webdriver\n",
    "import pandas as pd"
   ]
  },
  {
   "cell_type": "code",
   "execution_count": 158,
   "metadata": {},
   "outputs": [],
   "source": [
    "# query urls\n",
    "url_news = \"https://mars.nasa.gov/news\"\n",
    "url_featured_image = \"https://www.jpl.nasa.gov/spaceimages\"\n",
    "url_weather = \"https://twitter.com/marswxreport\"\n",
    "url_facts = \"https://space-facts.com/mars/\"  \n",
    "url_hemispheres = \"https://astrogeology.usgs.gov/search/results?q=hemisphere+enhanced&k1=target&v1=Mars\""
   ]
  },
  {
   "cell_type": "code",
   "execution_count": 159,
   "metadata": {},
   "outputs": [],
   "source": [
    "# selenium webdriver setup\n",
    "driver = webdriver.Chrome(\"./chromedriver.exe\")\n",
    "driver.implicitly_wait(3)\n",
    "\n",
    "# requests\n",
    "#response = requests.get(url_news)\n",
    "#soup = bs(response.text, 'html.parser')"
   ]
  },
  {
   "cell_type": "code",
   "execution_count": 160,
   "metadata": {},
   "outputs": [],
   "source": [
    "# Retrieve mars news\n",
    "\n",
    "driver.get(url_news)\n",
    "response = driver.page_source\n",
    "soup = bs(response,'html.parser')\n",
    "news_title = soup.body.find_all(\"div\",class_=\"content_title\")[0].text\n",
    "news_p = soup.body.find_all(\"div\", class_=\"article_teaser_body\")[0].text\n",
    "\n",
    "#with open(\"test.html\",'w') as f:\n",
    "#    print(soup.prettify(), file=f)"
   ]
  },
  {
   "cell_type": "code",
   "execution_count": 162,
   "metadata": {},
   "outputs": [
    {
     "data": {
      "text/plain": [
       "\"After the mission's heat probe began hammering last week, it appears to have hit a rock. The team is analyzing data before they hammer again.\""
      ]
     },
     "execution_count": 162,
     "metadata": {},
     "output_type": "execute_result"
    }
   ],
   "source": [
    "news_p"
   ]
  },
  {
   "cell_type": "code",
   "execution_count": 22,
   "metadata": {},
   "outputs": [],
   "source": [
    "# Retrieve mars image\n",
    "driver.get(url_featured_image)\n",
    "response = driver.page_source\n",
    "soup = bs(response,'html.parser')\n",
    "\n",
    "temp_url = soup.body.find_all(\"article\", class_=\"carousel_item\")[0][\"style\"].split(\"'\")[1].split(\"/\")[-1].split(\"-\")[0]\n",
    "featured_image_url = \"https://www.jpl.nasa.gov/spaceimages/images/largesize/\" + temp_url  + \"_hires.jpg\""
   ]
  },
  {
   "cell_type": "code",
   "execution_count": 86,
   "metadata": {},
   "outputs": [
    {
     "data": {
      "text/plain": [
       "'InSight sol 99 (2019-03-07) low -95.8ºC (-140.4ºF) high -13.3ºC (8.1ºF)\\nwinds from the SW at 4.2 m/s (9.5 mph) gusting to 12.0 m/s (26.8 mph)\\npressure at 7.20 hPa'"
      ]
     },
     "execution_count": 86,
     "metadata": {},
     "output_type": "execute_result"
    }
   ],
   "source": [
    "# Retreive mars weather\n",
    "driver.get(url_weather)\n",
    "response = driver.page_source\n",
    "soup = bs(response,'html.parser')\n",
    "temp_p = soup.body.find_all(\"p\",class_=\"TweetTextSize TweetTextSize--normal js-tweet-text tweet-text\")[0]\n",
    "temp_p.a.decompose()\n",
    "mars_weather = temp_p.text"
   ]
  },
  {
   "cell_type": "code",
   "execution_count": 94,
   "metadata": {},
   "outputs": [],
   "source": [
    "# Retrieve mars fact\n",
    "driver.get(url_facts)\n",
    "response = driver.page_source\n",
    "soup = bs(response,'html.parser')\n",
    "table_html = soup.body.find_all(\"table\")\n",
    "\n",
    "# stupid method (pandas --> html)\n",
    "table_html_str = str(soup.body.find_all(\"table\")) \n",
    "df_facts = pd.read_html(table_html_str)[0]\n",
    "table_from_pandas = df_facts.to_html()"
   ]
  },
  {
   "cell_type": "code",
   "execution_count": 126,
   "metadata": {},
   "outputs": [],
   "source": [
    "# Retreive Mars hemispheres\n",
    "driver.get(url_hemispheres)\n",
    "response = driver.page_source\n",
    "soup = bs(response,'html.parser')\n",
    "\n",
    "hemispheres_image_urls = []\n",
    "temp_dict = {}\n",
    "\n",
    "temp_image_list = soup.body.find_all(\"div\", class_=\"description\")\n",
    "\n",
    "for item in temp_image_list:\n",
    "    temp_dict[\"title\"] = item.a.h3.text.rsplit(\" \",1)[0]\n",
    "    temp_dict[\"img_url\"] = \"http://astropedia.astrogeology.usgs.gov/download/\" + item.a[\"href\"].split(\"/\",3)[-1] + \".tif/full.jpg\" \n",
    "    hemispheres_image_urls.append(temp_dict.copy())"
   ]
  },
  {
   "cell_type": "code",
   "execution_count": 156,
   "metadata": {},
   "outputs": [],
   "source": [
    "# extraction test\n",
    "#title = soup.body.find_all(\"div\", class_=\"description\")[0].a.h3.text.rsplit(\" \",1)[0]\n",
    "\n",
    "#temp_url = soup.body.find_all(\"div\", class_=\"description\")[0].a[\"href\"].split(\"/\",3)[-1]\n",
    "#img_url = \"http://astropedia.astrogeology.usgs.gov/download/\" + temp_url + \".tif/full.jpg\"  "
   ]
  }
 ],
 "metadata": {
  "kernelspec": {
   "display_name": "Python 3",
   "language": "python",
   "name": "python3"
  },
  "language_info": {
   "codemirror_mode": {
    "name": "ipython",
    "version": 3
   },
   "file_extension": ".py",
   "mimetype": "text/x-python",
   "name": "python",
   "nbconvert_exporter": "python",
   "pygments_lexer": "ipython3",
   "version": "3.7.0"
  }
 },
 "nbformat": 4,
 "nbformat_minor": 2
}
